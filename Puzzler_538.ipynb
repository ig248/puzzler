{
 "cells": [
  {
   "cell_type": "code",
   "execution_count": 2,
   "metadata": {
    "collapsed": true
   },
   "outputs": [],
   "source": [
    "from math import *"
   ]
  },
  {
   "cell_type": "code",
   "execution_count": 121,
   "metadata": {
    "collapsed": true
   },
   "outputs": [],
   "source": [
    "def sum_of_squares(n, smin=1):\n",
    "    # Return all possible lists of numbers whos squares add up to n\n",
    "    results = []\n",
    "    if n < 0:\n",
    "        return None\n",
    "    if n == 0:\n",
    "        return [[]]\n",
    "    for s in range(smin, int(sqrt(n))+1):\n",
    "        subsum = sum_of_squares(n-s*s, smin=s)\n",
    "        for option in subsum:\n",
    "            results.append([s] + option)\n",
    "    return results"
   ]
  },
  {
   "cell_type": "code",
   "execution_count": 162,
   "metadata": {},
   "outputs": [
    {
     "name": "stdout",
     "output_type": "stream",
     "text": [
      "11592\n",
      "Wall time: 1.15 s\n"
     ]
    }
   ],
   "source": [
    "%%time\n",
    "side = 13\n",
    "options = sum_of_squares(side*side);\n",
    "print len(options)"
   ]
  },
  {
   "cell_type": "code",
   "execution_count": 163,
   "metadata": {},
   "outputs": [
    {
     "name": "stdout",
     "output_type": "stream",
     "text": [
      "423\n"
     ]
    }
   ],
   "source": [
    "options = [o for o in options if len(o)<12]\n",
    "print len(options)"
   ]
  },
  {
   "cell_type": "code",
   "execution_count": 165,
   "metadata": {
    "collapsed": true
   },
   "outputs": [],
   "source": [
    "def largest_pair_of_squares_fits(opt, smax):\n",
    "    if len(opt) == 1:\n",
    "        return False\n",
    "    opt = sorted(opt, reverse=True)\n",
    "    if opt[0]+opt[1] > smax:\n",
    "        return False\n",
    "    return True"
   ]
  },
  {
   "cell_type": "code",
   "execution_count": 166,
   "metadata": {},
   "outputs": [
    {
     "name": "stdout",
     "output_type": "stream",
     "text": [
      "157\n"
     ]
    }
   ],
   "source": [
    "options = [o for o in options if largest_pair_of_squares_fits(o, side)]\n",
    "print len(options)"
   ]
  },
  {
   "cell_type": "code",
   "execution_count": 178,
   "metadata": {},
   "outputs": [],
   "source": [
    "from itertools import combinations, permutations\n",
    "def subsets_fitting_side(opt, side):\n",
    "    # Subsets of numbers that add up to given side\n",
    "    subsets = []\n",
    "    for r in range(2, len(opt)-1): # leave at least 2 squares per side\n",
    "        for c in combinations(opt, r):\n",
    "            if sum(c) == side:\n",
    "                subsets.append(c)\n",
    "    return subsets\n",
    "\n",
    "def has_4_sides(opt, side):\n",
    "    subsets = subsets_fitting_side(opt, side)\n",
    "    if len(subsets) < 4:\n",
    "        return False\n",
    "    for corners_set in combinations(opt, 4):\n",
    "        # possible order of corners, ignoring rotations and reflections\n",
    "        possible_orders = [\n",
    "            [corners_set[0], corners_set[1], corners_set[2], corners_set[3]],\n",
    "            [corners_set[0], corners_set[1], corners_set[3], corners_set[2]],\n",
    "            [corners_set[0], corners_set[2], corners_set[1], corners_set[3]],\n",
    "        ]\n",
    "        for corners in possible_orders:\n",
    "            corner_pairs = zip(corners, corners[1:]+[corners[0]])\n",
    "            fitting_subsets = [\n",
    "                [subset for subset in subsets if set(pair) <= set(subset)]\n",
    "                for pair in corner_pairs\n",
    "            ]\n",
    "            \n",
    "    return False"
   ]
  },
  {
   "cell_type": "code",
   "execution_count": 172,
   "metadata": {},
   "outputs": [
    {
     "data": {
      "text/plain": [
       "[(1, 2), (2, 3), (3, 4), (4, 1)]"
      ]
     },
     "execution_count": 172,
     "metadata": {},
     "output_type": "execute_result"
    }
   ],
   "source": [
    "corners = [1,2,3,4]\n",
    "zip(corners, corners[1:]+[corners[0]])"
   ]
  },
  {
   "cell_type": "code",
   "execution_count": 175,
   "metadata": {},
   "outputs": [
    {
     "data": {
      "text/plain": [
       "True"
      ]
     },
     "execution_count": 175,
     "metadata": {},
     "output_type": "execute_result"
    }
   ],
   "source": [
    "set((1,2)) <=set((1,2))"
   ]
  },
  {
   "cell_type": "code",
   "execution_count": 146,
   "metadata": {},
   "outputs": [
    {
     "name": "stdout",
     "output_type": "stream",
     "text": [
      "150\n"
     ]
    }
   ],
   "source": [
    "options = [o for o in options if has_4_sides(o, side)]\n",
    "print len(options)"
   ]
  },
  {
   "cell_type": "code",
   "execution_count": 117,
   "metadata": {},
   "outputs": [
    {
     "name": "stdout",
     "output_type": "stream",
     "text": [
      "152\n"
     ]
    }
   ],
   "source": [
    "options = [o for o in options if len(o)<12]\n",
    "print len(options)"
   ]
  },
  {
   "cell_type": "code",
   "execution_count": 118,
   "metadata": {
    "collapsed": true
   },
   "outputs": [],
   "source": [
    "options = sorted(options, key=len)"
   ]
  },
  {
   "cell_type": "code",
   "execution_count": 119,
   "metadata": {},
   "outputs": [
    {
     "data": {
      "text/plain": [
       "[[3, 4, 6, 6, 6, 6],\n",
       " [3, 5, 5, 5, 6, 7],\n",
       " [4, 4, 4, 6, 6, 7],\n",
       " [1, 2, 5, 5, 5, 5, 8],\n",
       " [2, 2, 2, 6, 6, 6, 7],\n",
       " [2, 4, 4, 5, 6, 6, 6],\n",
       " [2, 4, 5, 5, 5, 5, 7],\n",
       " [3, 3, 4, 5, 5, 6, 7],\n",
       " [4, 4, 4, 4, 4, 5, 8],\n",
       " [1, 1, 1, 3, 6, 6, 6, 7],\n",
       " [1, 1, 3, 5, 5, 6, 6, 6],\n",
       " [1, 1, 4, 4, 5, 5, 6, 7],\n",
       " [1, 2, 2, 4, 6, 6, 6, 6],\n",
       " [1, 2, 2, 5, 5, 5, 6, 7],\n",
       " [1, 2, 3, 3, 5, 6, 6, 7],\n",
       " [1, 2, 3, 4, 5, 5, 5, 8],\n",
       " [1, 4, 4, 5, 5, 5, 5, 6],\n",
       " [2, 2, 4, 4, 4, 4, 4, 9],\n",
       " [2, 2, 5, 5, 5, 5, 5, 6],\n",
       " [2, 3, 3, 5, 5, 5, 6, 6],\n",
       " [2, 3, 4, 4, 4, 6, 6, 6],\n",
       " [2, 3, 4, 4, 5, 5, 5, 7],\n",
       " [2, 4, 4, 4, 4, 4, 6, 7],\n",
       " [3, 3, 3, 4, 4, 5, 6, 7],\n",
       " [1, 1, 1, 2, 4, 5, 6, 6, 7],\n",
       " [1, 1, 2, 4, 5, 5, 5, 6, 6],\n",
       " [1, 1, 3, 3, 4, 5, 6, 6, 6],\n",
       " [1, 1, 3, 3, 5, 5, 5, 5, 7],\n",
       " [1, 1, 3, 4, 4, 4, 5, 6, 7],\n",
       " [1, 2, 2, 3, 4, 5, 5, 6, 7],\n",
       " [1, 2, 3, 3, 3, 4, 6, 6, 7],\n",
       " [1, 2, 3, 3, 4, 4, 5, 5, 8],\n",
       " [1, 3, 3, 5, 5, 5, 5, 5, 5],\n",
       " [1, 3, 4, 4, 4, 5, 5, 5, 6],\n",
       " [1, 4, 4, 4, 4, 4, 4, 6, 6],\n",
       " [2, 2, 2, 2, 3, 6, 6, 6, 6],\n",
       " [2, 2, 2, 2, 4, 4, 6, 6, 7],\n",
       " [2, 2, 2, 3, 3, 5, 5, 5, 8],\n",
       " [2, 2, 3, 4, 5, 5, 5, 5, 6],\n",
       " [2, 2, 4, 4, 4, 4, 5, 6, 6],\n",
       " [2, 3, 3, 3, 3, 4, 4, 4, 9],\n",
       " [2, 3, 3, 3, 4, 5, 5, 6, 6],\n",
       " [2, 3, 3, 4, 4, 4, 5, 5, 7],\n",
       " [3, 3, 3, 3, 3, 4, 6, 6, 6],\n",
       " [3, 3, 3, 3, 3, 5, 5, 5, 7],\n",
       " [3, 3, 3, 3, 4, 4, 4, 6, 7],\n",
       " [1, 1, 1, 1, 1, 5, 5, 5, 5, 8],\n",
       " [1, 1, 1, 1, 2, 2, 6, 6, 6, 7],\n",
       " [1, 1, 1, 1, 4, 4, 5, 6, 6, 6],\n",
       " [1, 1, 1, 1, 4, 5, 5, 5, 5, 7],\n",
       " [1, 1, 1, 2, 2, 5, 5, 6, 6, 6],\n",
       " [1, 1, 1, 2, 3, 3, 6, 6, 6, 6],\n",
       " [1, 1, 1, 2, 3, 4, 4, 6, 6, 7],\n",
       " [1, 1, 1, 2, 4, 4, 4, 5, 5, 8],\n",
       " [1, 1, 1, 3, 3, 3, 5, 5, 5, 8],\n",
       " [1, 1, 1, 4, 5, 5, 5, 5, 5, 5],\n",
       " [1, 1, 2, 2, 2, 3, 5, 6, 6, 7],\n",
       " [1, 1, 2, 2, 2, 4, 5, 5, 5, 8],\n",
       " [1, 1, 2, 3, 3, 4, 4, 4, 4, 9],\n",
       " [1, 1, 2, 3, 4, 4, 5, 5, 6, 6],\n",
       " [1, 1, 2, 4, 4, 4, 4, 5, 5, 7],\n",
       " [1, 1, 3, 3, 3, 4, 4, 6, 6, 6],\n",
       " [1, 1, 3, 3, 3, 4, 5, 5, 5, 7],\n",
       " [1, 1, 3, 3, 4, 4, 4, 4, 6, 7],\n",
       " [1, 2, 2, 2, 3, 5, 5, 5, 6, 6],\n",
       " [1, 2, 2, 2, 4, 4, 4, 6, 6, 6],\n",
       " [1, 2, 2, 2, 4, 4, 5, 5, 5, 7],\n",
       " [1, 2, 2, 3, 3, 3, 5, 6, 6, 6],\n",
       " [1, 2, 2, 3, 3, 4, 4, 5, 6, 7],\n",
       " [1, 2, 2, 4, 4, 4, 4, 4, 4, 8],\n",
       " [1, 2, 3, 3, 3, 4, 4, 4, 5, 8],\n",
       " [1, 2, 4, 4, 4, 4, 5, 5, 5, 5],\n",
       " [1, 3, 3, 3, 3, 3, 3, 5, 5, 8],\n",
       " [1, 3, 3, 3, 4, 5, 5, 5, 5, 5],\n",
       " [1, 3, 3, 4, 4, 4, 4, 5, 5, 6],\n",
       " [2, 2, 2, 2, 2, 4, 5, 6, 6, 6],\n",
       " [2, 2, 2, 2, 2, 5, 5, 5, 5, 7],\n",
       " [2, 2, 2, 2, 3, 3, 5, 5, 6, 7],\n",
       " [2, 2, 2, 2, 4, 4, 4, 4, 5, 8],\n",
       " [2, 2, 2, 3, 3, 3, 3, 6, 6, 7],\n",
       " [2, 2, 2, 3, 3, 3, 4, 5, 5, 8],\n",
       " [2, 2, 2, 4, 4, 5, 5, 5, 5, 5],\n",
       " [2, 2, 3, 3, 4, 4, 5, 5, 5, 6],\n",
       " [2, 2, 3, 4, 4, 4, 4, 4, 6, 6],\n",
       " [2, 2, 4, 4, 4, 4, 4, 4, 4, 7],\n",
       " [2, 3, 3, 3, 3, 4, 4, 5, 6, 6],\n",
       " [2, 3, 3, 3, 4, 4, 4, 4, 5, 7],\n",
       " [3, 3, 3, 3, 3, 3, 3, 3, 4, 9],\n",
       " [3, 3, 3, 3, 3, 3, 4, 5, 5, 7],\n",
       " [4, 4, 4, 4, 4, 4, 4, 4, 4, 5],\n",
       " [1, 1, 1, 1, 1, 2, 4, 6, 6, 6, 6],\n",
       " [1, 1, 1, 1, 1, 2, 5, 5, 5, 6, 7],\n",
       " [1, 1, 1, 1, 1, 3, 3, 5, 6, 6, 7],\n",
       " [1, 1, 1, 1, 1, 3, 4, 5, 5, 5, 8],\n",
       " [1, 1, 1, 1, 2, 4, 4, 4, 4, 4, 9],\n",
       " [1, 1, 1, 1, 2, 5, 5, 5, 5, 5, 6],\n",
       " [1, 1, 1, 1, 3, 3, 5, 5, 5, 6, 6],\n",
       " [1, 1, 1, 1, 3, 4, 4, 4, 6, 6, 6],\n",
       " [1, 1, 1, 1, 3, 4, 4, 5, 5, 5, 7],\n",
       " [1, 1, 1, 1, 4, 4, 4, 4, 4, 6, 7],\n",
       " [1, 1, 1, 2, 2, 3, 4, 5, 6, 6, 6],\n",
       " [1, 1, 1, 2, 2, 3, 5, 5, 5, 5, 7],\n",
       " [1, 1, 1, 2, 2, 4, 4, 4, 5, 6, 7],\n",
       " [1, 1, 1, 2, 3, 3, 3, 5, 5, 6, 7],\n",
       " [1, 1, 1, 2, 3, 4, 4, 4, 4, 5, 8],\n",
       " [1, 1, 1, 3, 3, 3, 3, 3, 6, 6, 7],\n",
       " [1, 1, 1, 3, 3, 3, 3, 4, 5, 5, 8],\n",
       " [1, 1, 1, 3, 4, 4, 5, 5, 5, 5, 5],\n",
       " [1, 1, 1, 4, 4, 4, 4, 4, 5, 5, 6],\n",
       " [1, 1, 2, 2, 2, 2, 4, 5, 5, 6, 7],\n",
       " [1, 1, 2, 2, 2, 3, 3, 4, 6, 6, 7],\n",
       " [1, 1, 2, 2, 2, 3, 4, 4, 5, 5, 8],\n",
       " [1, 1, 2, 2, 3, 5, 5, 5, 5, 5, 5],\n",
       " [1, 1, 2, 2, 4, 4, 4, 5, 5, 5, 6],\n",
       " [1, 1, 2, 3, 3, 3, 3, 3, 3, 3, 10],\n",
       " [1, 1, 2, 3, 3, 3, 5, 5, 5, 5, 6],\n",
       " [1, 1, 2, 3, 3, 4, 4, 4, 5, 6, 6],\n",
       " [1, 1, 2, 3, 4, 4, 4, 4, 4, 5, 7],\n",
       " [1, 1, 3, 3, 3, 3, 3, 3, 4, 4, 9],\n",
       " [1, 1, 3, 3, 3, 3, 3, 5, 5, 6, 6],\n",
       " [1, 1, 3, 3, 3, 3, 4, 4, 5, 5, 7],\n",
       " [1, 2, 2, 2, 2, 2, 2, 6, 6, 6, 6],\n",
       " [1, 2, 2, 2, 2, 2, 3, 5, 5, 5, 8],\n",
       " [1, 2, 2, 2, 2, 4, 5, 5, 5, 5, 6],\n",
       " [1, 2, 2, 2, 3, 3, 3, 4, 4, 4, 9],\n",
       " [1, 2, 2, 2, 3, 3, 4, 5, 5, 6, 6],\n",
       " [1, 2, 2, 2, 3, 4, 4, 4, 5, 5, 7],\n",
       " [1, 2, 2, 3, 3, 3, 3, 4, 6, 6, 6],\n",
       " [1, 2, 2, 3, 3, 3, 3, 5, 5, 5, 7],\n",
       " [1, 2, 2, 3, 3, 3, 4, 4, 4, 6, 7],\n",
       " [1, 2, 3, 3, 3, 3, 3, 3, 5, 6, 7],\n",
       " [1, 2, 3, 3, 3, 3, 4, 4, 4, 4, 8],\n",
       " [1, 2, 3, 4, 4, 4, 4, 4, 5, 5, 5],\n",
       " [1, 2, 4, 4, 4, 4, 4, 4, 4, 4, 6],\n",
       " [1, 3, 3, 3, 3, 3, 3, 3, 4, 5, 8],\n",
       " [1, 3, 3, 3, 3, 4, 4, 5, 5, 5, 5],\n",
       " [1, 3, 3, 3, 4, 4, 4, 4, 4, 5, 6],\n",
       " [2, 2, 2, 2, 2, 2, 4, 4, 4, 4, 9],\n",
       " [2, 2, 2, 2, 2, 3, 4, 4, 6, 6, 6],\n",
       " [2, 2, 2, 2, 2, 3, 4, 5, 5, 5, 7],\n",
       " [2, 2, 2, 2, 2, 4, 4, 4, 4, 6, 7],\n",
       " [2, 2, 2, 2, 3, 3, 3, 4, 5, 6, 7],\n",
       " [2, 2, 2, 2, 3, 4, 4, 4, 4, 4, 8],\n",
       " [2, 2, 2, 3, 3, 3, 3, 4, 4, 5, 8],\n",
       " [2, 2, 2, 3, 4, 4, 4, 5, 5, 5, 5],\n",
       " [2, 2, 2, 4, 4, 4, 4, 4, 4, 5, 6],\n",
       " [2, 2, 3, 3, 3, 3, 5, 5, 5, 5, 5],\n",
       " [2, 2, 3, 3, 3, 4, 4, 4, 5, 5, 6],\n",
       " [2, 3, 3, 3, 3, 3, 3, 5, 5, 5, 6],\n",
       " [2, 3, 3, 3, 3, 3, 4, 4, 4, 6, 6],\n",
       " [2, 3, 3, 3, 3, 4, 4, 4, 4, 4, 7],\n",
       " [3, 3, 3, 3, 3, 3, 3, 4, 4, 5, 7]]"
      ]
     },
     "execution_count": 119,
     "metadata": {},
     "output_type": "execute_result"
    }
   ],
   "source": [
    "options"
   ]
  },
  {
   "cell_type": "code",
   "execution_count": 120,
   "metadata": {},
   "outputs": [
    {
     "data": {
      "text/plain": [
       "False"
      ]
     },
     "execution_count": 120,
     "metadata": {},
     "output_type": "execute_result"
    }
   ],
   "source": [
    "sorted([7, 6, 4,4, 3,3,3,3, 2,2,2,2]) in options"
   ]
  },
  {
   "cell_type": "code",
   "execution_count": null,
   "metadata": {
    "collapsed": true
   },
   "outputs": [],
   "source": []
  }
 ],
 "metadata": {
  "anaconda-cloud": {},
  "kernelspec": {
   "display_name": "Python [default]",
   "language": "python",
   "name": "python2"
  },
  "language_info": {
   "codemirror_mode": {
    "name": "ipython",
    "version": 2
   },
   "file_extension": ".py",
   "mimetype": "text/x-python",
   "name": "python",
   "nbconvert_exporter": "python",
   "pygments_lexer": "ipython2",
   "version": "2.7.12"
  }
 },
 "nbformat": 4,
 "nbformat_minor": 2
}
