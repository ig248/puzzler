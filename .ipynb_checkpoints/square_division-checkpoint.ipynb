{
 "cells": [
  {
   "cell_type": "code",
   "execution_count": 1,
   "metadata": {
    "collapsed": true
   },
   "outputs": [],
   "source": [
    "import numpy as np "
   ]
  },
  {
   "cell_type": "code",
   "execution_count": 195,
   "metadata": {},
   "outputs": [],
   "source": [
    "# check if sequence of subsquare sides is suitable for filling the big square.\n",
    "# We start from the top-left corner at (0, 0), and proceed by always finding\n",
    "# the top-left-most corner (top first)\n",
    "# (We use numpy for fancy indexing and not much else)\n",
    "# Indexing order is (down, right)\n",
    "# We use labels for each sub-square, starting at 1.\n",
    "# 0 denotes unfilled tiles.\n",
    "\n",
    "def first_free_tile_idx(board):\n",
    "    # return (r,c) of first zero\n",
    "    return tuple(np.argwhere(board==0)[0])\n",
    "\n",
    "def square_fill(seq, side, shortcut=False, board=None):\n",
    "    # Return (code, filled_board) or (code, partially_filled_board)\n",
    "    # return codes: 0 = can't fill, 1 = partial, 2 = full fill\n",
    "    if board is None:\n",
    "        board = np.zeros((side, side), dtype=int)\n",
    "    assert board.shape == (side, side) \n",
    "    # a few sanity checks first:\n",
    "    if shortcut:\n",
    "        if np.max(seq) > side:\n",
    "            return (0, board)\n",
    "        total = np.sum([s*s for s in seq])\n",
    "        if total != np.sum(board==0):\n",
    "            return (0, board)\n",
    "    l0 = board.max()+1\n",
    "    for l, s in enumerate(seq):\n",
    "        r0, c0 = first_free_tile_idx(board)\n",
    "        r1, c1 = r0 + s, c0 + s\n",
    "        if r1 > side or c1 > side or np.any(board[r0:r1, c0:c1]):\n",
    "            return (0, board)\n",
    "        board[r0:r1, c0:c1] = l + l0\n",
    "    if np.any(board==0): # left with incomplete board\n",
    "        return (1, board)\n",
    "    return (2, board)"
   ]
  },
  {
   "cell_type": "code",
   "execution_count": 196,
   "metadata": {},
   "outputs": [
    {
     "name": "stdout",
     "output_type": "stream",
     "text": [
      "Fill:  2\n",
      "[[1 1 1 2 2]\n",
      " [1 1 1 2 2]\n",
      " [1 1 1 3 4]\n",
      " [5 5 6 7 7]\n",
      " [5 5 8 7 7]]\n"
     ]
    }
   ],
   "source": [
    "# Example: fill a 5x5 square using 7 smaller squares\n",
    "r, b = square_fill([3, 2, 1, 1, 2, 1, 2, 1], 5, shortcut=False)\n",
    "print 'Fill: ', r\n",
    "print b"
   ]
  },
  {
   "cell_type": "markdown",
   "metadata": {},
   "source": [
    "## First attempt: bruteforce search\n",
    "### 5x5, nmax=8:\n",
    "- with shortcut: 0.7s\n",
    "- w/o shortcut: 2.1s\n",
    "\n",
    "### 7x7, nmax=8:\n",
    "even checking all combinations with up to 8 sub-sqaures takes 60s - not very scalable!"
   ]
  },
  {
   "cell_type": "code",
   "execution_count": 146,
   "metadata": {
    "collapsed": true
   },
   "outputs": [],
   "source": [
    "import itertools"
   ]
  },
  {
   "cell_type": "code",
   "execution_count": 181,
   "metadata": {},
   "outputs": [
    {
     "name": "stdout",
     "output_type": "stream",
     "text": [
      "Found filling with 8 squares:\n",
      "[[1 2 3 4 4]\n",
      " [5 5 6 4 4]\n",
      " [5 5 7 7 7]\n",
      " [8 8 7 7 7]\n",
      " [8 8 7 7 7]]\n",
      "CPU times: user 4.35 s, sys: 8 ms, total: 4.36 s\n",
      "Wall time: 4.34 s\n"
     ]
    }
   ],
   "source": [
    "%%time\n",
    "side = 5  # side of large square\n",
    "nmax = 8  # number of smaller squares\n",
    "\n",
    "for n in [nmax]:#range(1, nmax+1):\n",
    "    gen = xrange(side) #xrange(side, 0, -1)\n",
    "    gens = [gen]*n \n",
    "\n",
    "    sequences = itertools.product(*gens)\n",
    "    for seq in sequences:\n",
    "        r, b = square_fill(seq, side, shortcut=True)\n",
    "        if r==2:\n",
    "            break\n",
    "    if r==2:\n",
    "        print 'Found filling with %d squares:' % n \n",
    "        print b\n",
    "        break\n",
    "    else:\n",
    "        print 'Can not fill with %d squares' % n \n",
    "    "
   ]
  },
  {
   "cell_type": "markdown",
   "metadata": {},
   "source": [
    "## Second attempt: recursive search"
   ]
  },
  {
   "cell_type": "code",
   "execution_count": 197,
   "metadata": {},
   "outputs": [
    {
     "name": "stdout",
     "output_type": "stream",
     "text": [
      "1\n",
      "[[1 1 1 2 2]\n",
      " [1 1 1 2 2]\n",
      " [1 1 1 0 0]\n",
      " [0 0 0 0 0]\n",
      " [0 0 0 0 0]]\n",
      "1\n",
      "[[1 1 1 2 2]\n",
      " [1 1 1 2 2]\n",
      " [1 1 1 3 3]\n",
      " [4 4 0 3 3]\n",
      " [4 4 0 0 0]]\n"
     ]
    }
   ],
   "source": [
    "# Re-use part-filled board\n",
    "r, b = square_fill([3, 2], 5)\n",
    "print r\n",
    "print b\n",
    "r2, b2 = square_fill([2, 2], 5, board=b)\n",
    "print r2\n",
    "print b2"
   ]
  },
  {
   "cell_type": "code",
   "execution_count": 238,
   "metadata": {},
   "outputs": [],
   "source": [
    "def find_fill(side, seq=[], nmax=100):\n",
    "    if len(seq) > nmax:\n",
    "        return False\n",
    "    r, b = square_fill(seq, side, shortcut=False)\n",
    "    if r == 2:\n",
    "        return seq\n",
    "    if r ==0:\n",
    "        return False\n",
    "    for n in range(1, side):\n",
    "        f = find_fill(side, seq=seq+[n], nmax=nmax)\n",
    "        if f:\n",
    "            return f\n",
    "    return False"
   ]
  },
  {
   "cell_type": "code",
   "execution_count": 240,
   "metadata": {},
   "outputs": [
    {
     "name": "stdout",
     "output_type": "stream",
     "text": [
      "[1, 1, 1, 1, 2, 1]\n",
      "[[1 2 3]\n",
      " [4 5 5]\n",
      " [6 5 5]]\n"
     ]
    }
   ],
   "source": [
    "s = find_fill(3, seq=[], nmax=6)\n",
    "print s\n",
    "r, b = square_fill(s, 3)\n",
    "print b"
   ]
  },
  {
   "cell_type": "markdown",
   "metadata": {},
   "source": [
    "### 5x5\n",
    "7: nope\n",
    "\n",
    "8: yep"
   ]
  },
  {
   "cell_type": "code",
   "execution_count": 259,
   "metadata": {},
   "outputs": [
    {
     "name": "stdout",
     "output_type": "stream",
     "text": [
      "[1, 1, 1, 2, 2, 1, 3, 2]\n",
      "[[1 2 3 4 4]\n",
      " [5 5 6 4 4]\n",
      " [5 5 7 7 7]\n",
      " [8 8 7 7 7]\n",
      " [8 8 7 7 7]]\n",
      "CPU times: user 56 ms, sys: 0 ns, total: 56 ms\n",
      "Wall time: 54.2 ms\n"
     ]
    }
   ],
   "source": [
    "%%time\n",
    "side = 5  # side of large square\n",
    "nmax = 8  # number of smaller squares\n",
    "\n",
    "s = find_fill(side, seq=[], nmax=nmax)\n",
    "print s\n",
    "if s:\n",
    "    r, b = square_fill(s, side)\n",
    "    print b"
   ]
  },
  {
   "cell_type": "markdown",
   "metadata": {},
   "source": [
    "### 7x7\n",
    "8: nope\n",
    "\n",
    "9: yep!"
   ]
  },
  {
   "cell_type": "code",
   "execution_count": 249,
   "metadata": {},
   "outputs": [
    {
     "name": "stdout",
     "output_type": "stream",
     "text": [
      "[1, 1, 3, 2, 2, 2, 4, 1, 3]\n",
      "[[1 2 3 3 3 4 4]\n",
      " [5 5 3 3 3 4 4]\n",
      " [5 5 3 3 3 6 6]\n",
      " [7 7 7 7 8 6 6]\n",
      " [7 7 7 7 9 9 9]\n",
      " [7 7 7 7 9 9 9]\n",
      " [7 7 7 7 9 9 9]]\n",
      "CPU times: user 556 ms, sys: 4 ms, total: 560 ms\n",
      "Wall time: 558 ms\n"
     ]
    }
   ],
   "source": [
    "%%time\n",
    "side = 7  # side of large square\n",
    "nmax = 9  # number of smaller squares\n",
    "\n",
    "s = find_fill(side, seq=[], nmax=nmax)\n",
    "print s\n",
    "if s:\n",
    "    r, b = square_fill(s, side)\n",
    "    print b"
   ]
  },
  {
   "cell_type": "markdown",
   "metadata": {},
   "source": [
    "### 9x9\n",
    "5: nope\n",
    "\n",
    "6: yep!"
   ]
  },
  {
   "cell_type": "code",
   "execution_count": 256,
   "metadata": {},
   "outputs": [
    {
     "name": "stdout",
     "output_type": "stream",
     "text": [
      "[3, 3, 3, 3, 6, 3]\n",
      "[[1 1 1 2 2 2 3 3 3]\n",
      " [1 1 1 2 2 2 3 3 3]\n",
      " [1 1 1 2 2 2 3 3 3]\n",
      " [4 4 4 5 5 5 5 5 5]\n",
      " [4 4 4 5 5 5 5 5 5]\n",
      " [4 4 4 5 5 5 5 5 5]\n",
      " [6 6 6 5 5 5 5 5 5]\n",
      " [6 6 6 5 5 5 5 5 5]\n",
      " [6 6 6 5 5 5 5 5 5]]\n",
      "CPU times: user 812 ms, sys: 0 ns, total: 812 ms\n",
      "Wall time: 809 ms\n"
     ]
    }
   ],
   "source": [
    "%%time\n",
    "side = 9  # side of large square\n",
    "nmax = 6  # number of smaller squares\n",
    "\n",
    "s = find_fill(side, seq=[], nmax=nmax)\n",
    "print s\n",
    "if s:\n",
    "    r, b = square_fill(s, side)\n",
    "    print b"
   ]
  },
  {
   "cell_type": "markdown",
   "metadata": {},
   "source": [
    "### 11x11\n",
    "6: nope\n",
    "\n",
    "7: nope\n",
    "\n",
    "8: nope (23s)\n",
    "\n",
    "9: nope (60s)\n",
    "\n",
    "10: nope (150s)\n",
    "\n",
    "11: yep (23s)"
   ]
  },
  {
   "cell_type": "code",
   "execution_count": 265,
   "metadata": {},
   "outputs": [
    {
     "name": "stdout",
     "output_type": "stream",
     "text": [
      "[1, 1, 3, 2, 4, 2, 2, 4, 1, 7, 4]\n",
      "[[ 1  2  3  3  3  4  4  5  5  5  5]\n",
      " [ 6  6  3  3  3  4  4  5  5  5  5]\n",
      " [ 6  6  3  3  3  7  7  5  5  5  5]\n",
      " [ 8  8  8  8  9  7  7  5  5  5  5]\n",
      " [ 8  8  8  8 10 10 10 10 10 10 10]\n",
      " [ 8  8  8  8 10 10 10 10 10 10 10]\n",
      " [ 8  8  8  8 10 10 10 10 10 10 10]\n",
      " [11 11 11 11 10 10 10 10 10 10 10]\n",
      " [11 11 11 11 10 10 10 10 10 10 10]\n",
      " [11 11 11 11 10 10 10 10 10 10 10]\n",
      " [11 11 11 11 10 10 10 10 10 10 10]]\n",
      "CPU times: user 23.2 s, sys: 16 ms, total: 23.2 s\n",
      "Wall time: 23.2 s\n"
     ]
    }
   ],
   "source": [
    "%%time\n",
    "side = 11  # side of large square\n",
    "nmax = 11  # number of smaller squares\n",
    "\n",
    "s = find_fill(side, seq=[], nmax=nmax)\n",
    "print s\n",
    "if s:\n",
    "    r, b = square_fill(s, side)\n",
    "    print b"
   ]
  },
  {
   "cell_type": "markdown",
   "metadata": {},
   "source": [
    "---"
   ]
  },
  {
   "cell_type": "markdown",
   "metadata": {},
   "source": [
    "### 13x13\n",
    "10: nope (8min)\n",
    "\n",
    "11: yep!! (7.5min) \n",
    "\n",
    "12: yep (88s)"
   ]
  },
  {
   "cell_type": "code",
   "execution_count": 268,
   "metadata": {},
   "outputs": [
    {
     "name": "stdout",
     "output_type": "stream",
     "text": [
      "False\n",
      "CPU times: user 8min 11s, sys: 204 ms, total: 8min 11s\n",
      "Wall time: 8min 12s\n"
     ]
    }
   ],
   "source": [
    "%%time\n",
    "side = 13  # side of large square\n",
    "nmax = 10  # number of smaller squares\n",
    "\n",
    "s = find_fill(side, seq=[], nmax=nmax)\n",
    "print s\n",
    "if s:\n",
    "    r, b = square_fill(s, side)\n",
    "    print b"
   ]
  },
  {
   "cell_type": "code",
   "execution_count": 267,
   "metadata": {},
   "outputs": [
    {
     "name": "stdout",
     "output_type": "stream",
     "text": [
      "[3, 2, 2, 6, 1, 3, 4, 2, 1, 7, 6]\n",
      "[[ 1  1  1  2  2  3  3  4  4  4  4  4  4]\n",
      " [ 1  1  1  2  2  3  3  4  4  4  4  4  4]\n",
      " [ 1  1  1  5  6  6  6  4  4  4  4  4  4]\n",
      " [ 7  7  7  7  6  6  6  4  4  4  4  4  4]\n",
      " [ 7  7  7  7  6  6  6  4  4  4  4  4  4]\n",
      " [ 7  7  7  7  8  8  9  4  4  4  4  4  4]\n",
      " [ 7  7  7  7  8  8 10 10 10 10 10 10 10]\n",
      " [11 11 11 11 11 11 10 10 10 10 10 10 10]\n",
      " [11 11 11 11 11 11 10 10 10 10 10 10 10]\n",
      " [11 11 11 11 11 11 10 10 10 10 10 10 10]\n",
      " [11 11 11 11 11 11 10 10 10 10 10 10 10]\n",
      " [11 11 11 11 11 11 10 10 10 10 10 10 10]\n",
      " [11 11 11 11 11 11 10 10 10 10 10 10 10]]\n",
      "CPU times: user 7min 30s, sys: 84 ms, total: 7min 30s\n",
      "Wall time: 7min 30s\n"
     ]
    }
   ],
   "source": [
    "%%time\n",
    "side = 13  # side of large square\n",
    "nmax = 11  # number of smaller squares\n",
    "\n",
    "s = find_fill(side, seq=[], nmax=nmax)\n",
    "print s\n",
    "if s:\n",
    "    r, b = square_fill(s, side)\n",
    "    print b"
   ]
  },
  {
   "cell_type": "code",
   "execution_count": 266,
   "metadata": {},
   "outputs": [
    {
     "name": "stdout",
     "output_type": "stream",
     "text": [
      "[1, 1, 1, 4, 6, 3, 3, 3, 1, 1, 7, 6]\n",
      "[[ 1  2  3  4  4  4  4  5  5  5  5  5  5]\n",
      " [ 6  6  6  4  4  4  4  5  5  5  5  5  5]\n",
      " [ 6  6  6  4  4  4  4  5  5  5  5  5  5]\n",
      " [ 6  6  6  4  4  4  4  5  5  5  5  5  5]\n",
      " [ 7  7  7  8  8  8  9  5  5  5  5  5  5]\n",
      " [ 7  7  7  8  8  8 10  5  5  5  5  5  5]\n",
      " [ 7  7  7  8  8  8 11 11 11 11 11 11 11]\n",
      " [12 12 12 12 12 12 11 11 11 11 11 11 11]\n",
      " [12 12 12 12 12 12 11 11 11 11 11 11 11]\n",
      " [12 12 12 12 12 12 11 11 11 11 11 11 11]\n",
      " [12 12 12 12 12 12 11 11 11 11 11 11 11]\n",
      " [12 12 12 12 12 12 11 11 11 11 11 11 11]\n",
      " [12 12 12 12 12 12 11 11 11 11 11 11 11]]\n",
      "CPU times: user 1min 22s, sys: 24 ms, total: 1min 22s\n",
      "Wall time: 1min 22s\n"
     ]
    }
   ],
   "source": [
    "%%time\n",
    "side = 13  # side of large square\n",
    "nmax = 12  # number of smaller squares\n",
    "\n",
    "s = find_fill(side, seq=[], nmax=nmax)\n",
    "print s\n",
    "if s:\n",
    "    r, b = square_fill(s, side)\n",
    "    print b"
   ]
  },
  {
   "cell_type": "code",
   "execution_count": null,
   "metadata": {
    "collapsed": true
   },
   "outputs": [],
   "source": []
  }
 ],
 "metadata": {
  "anaconda-cloud": {},
  "kernelspec": {
   "display_name": "Python [default]",
   "language": "python",
   "name": "python2"
  },
  "language_info": {
   "codemirror_mode": {
    "name": "ipython",
    "version": 2
   },
   "file_extension": ".py",
   "mimetype": "text/x-python",
   "name": "python",
   "nbconvert_exporter": "python",
   "pygments_lexer": "ipython2",
   "version": "2.7.12"
  }
 },
 "nbformat": 4,
 "nbformat_minor": 2
}
